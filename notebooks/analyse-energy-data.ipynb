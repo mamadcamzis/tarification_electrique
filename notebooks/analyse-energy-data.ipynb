{
 "cells": [
  {
   "cell_type": "markdown",
   "metadata": {},
   "source": [
    "# Analyse Energy Data"
   ]
  },
  {
   "cell_type": "code",
   "execution_count": 23,
   "metadata": {},
   "outputs": [],
   "source": [
    "import requests\n",
    "import pandas as pd\n"
   ]
  },
  {
   "cell_type": "code",
   "execution_count": 24,
   "metadata": {},
   "outputs": [],
   "source": [
    "def get_enedis_data():\n",
    "    url = \"https://data.enedis.fr/api/explore/v2.1/catalog/datasets/consommation-electrique-par-secteur-dactivite-commune/records?limit=-1\"\n",
    "    print(f\"Fetching Enedis data ...\") \n",
    "    res = requests.get(url)\n",
    "    res = res.json()\n",
    "    resultats = res[\"results\"]\n",
    "    enedis_df = pd.DataFrame(resultats)\n",
    "    return enedis_df\n",
    "\n",
    "\n",
    "def get_real_time_data():\n",
    "    url = \"https://odre.opendatasoft.com/api/explore/v2.1/catalog/datasets/eco2mix-regional-tr/records?limit=-1&lang=fr&refine=libelle_region%3A%22Auvergne-Rh%C3%B4ne-Alpes%22&refine=libelle_region%3A%22Bourgogne-Franche-Comt%C3%A9%22&refine=libelle_region%3A%22Bretagne%22&refine=libelle_region%3A%22Centre-Val%20de%20Loire%22&refine=libelle_region%3A%22Grand%20Est%22&refine=libelle_region%3A%22Hauts-de-France%22&refine=libelle_region%3A%22%C3%8Ele-de-France%22&refine=libelle_region%3A%22Normandie%22&refine=libelle_region%3A%22Nouvelle-Aquitaine%22&refine=libelle_region%3A%22Occitanie%22&refine=libelle_region%3A%22Pays%20de%20la%20Loire%22&refine=libelle_region%3A%22Provence-Alpes-C%C3%B4te%20d%27Azur%22\"\n",
    "    print(f\"Fetching Real time data from open data réseaux énergie (ODRE) ...\") \n",
    "    res = requests.get(url)\n",
    "    res = res.json()\n",
    "    res = res[\"results\"]\n",
    "    odre_df = pd.DataFrame(res)\n",
    "    return odre_df"
   ]
  },
  {
   "cell_type": "code",
   "execution_count": 25,
   "metadata": {},
   "outputs": [
    {
     "name": "stdout",
     "output_type": "stream",
     "text": [
      "Fetching Enedis data ...\n"
     ]
    }
   ],
   "source": [
    "enedis_df = get_enedis_data()"
   ]
  },
  {
   "cell_type": "code",
   "execution_count": 27,
   "metadata": {},
   "outputs": [
    {
     "data": {
      "text/plain": [
       "annee\n",
       "2017    100\n",
       "Name: count, dtype: int64"
      ]
     },
     "execution_count": 27,
     "metadata": {},
     "output_type": "execute_result"
    }
   ],
   "source": [
    "enedis_df.annee.value_counts()\n"
   ]
  },
  {
   "cell_type": "code",
   "execution_count": null,
   "metadata": {},
   "outputs": [],
   "source": []
  }
 ],
 "metadata": {
  "kernelspec": {
   "display_name": ".venv",
   "language": "python",
   "name": "python3"
  },
  "language_info": {
   "codemirror_mode": {
    "name": "ipython",
    "version": 3
   },
   "file_extension": ".py",
   "mimetype": "text/x-python",
   "name": "python",
   "nbconvert_exporter": "python",
   "pygments_lexer": "ipython3",
   "version": "3.10.13"
  }
 },
 "nbformat": 4,
 "nbformat_minor": 2
}
